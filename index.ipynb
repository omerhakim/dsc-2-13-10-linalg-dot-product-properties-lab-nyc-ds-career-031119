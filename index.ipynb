{
 "cells": [
  {
   "cell_type": "markdown",
   "metadata": {},
   "source": [
    "# Properties of Dot Product - Lab"
   ]
  },
  {
   "cell_type": "markdown",
   "metadata": {},
   "source": [
    "## Introduction\n",
    "\n",
    "In this lab we shall look at some interesting properties of a Dot product type matrix multiplication. Understanding these properties will become useful as we move forward with machine learning advanced linear algebra. The lab will require you to calculate results to provide a proof for these properties.\n",
    "\n",
    "## Objectives\n",
    "You will be able to:\n",
    "* Understand and analytically explain Distributive, Commutative and Associative properties of dot product\n",
    "\n",
    "## Instructions\n",
    "\n",
    "* For each property, create suitably sized matrices with random data and prove the equations \n",
    "* Ensure that size/dimension assumptions are met while performing calculations (you'll see errors otherwise)\n",
    "* Calculate the LHS and RHS for all equations and show if they are equal or not"
   ]
  },
  {
   "cell_type": "markdown",
   "metadata": {},
   "source": [
    "## Distributive Property - Matrices multiplication is distributive\n",
    "### Prove that A.(B+C)=A.B+A.C"
   ]
  },
  {
   "cell_type": "code",
   "execution_count": 2,
   "metadata": {},
   "outputs": [],
   "source": [
    "# Your code here\n",
    "import numpy as np\n",
    "import random\n",
    "\n",
    "A= np.zeros((3,3))\n",
    "B= np.zeros((3,3))\n",
    "C= np.zeros((3,3))\n",
    "\n",
    "def fill(matrix):\n",
    "\n",
    "    for x in range(0, matrix.shape[0]):\n",
    "        for y in range(0, matrix.shape[1]):\n",
    "            matrix[x][y] = random.randrange(1, 10)\n",
    "    \n",
    "    return matrix\n",
    "A=fill(A)\n",
    "B=fill(B)\n",
    "C=fill(C)"
   ]
  },
  {
   "cell_type": "code",
   "execution_count": 4,
   "metadata": {},
   "outputs": [
    {
     "name": "stdout",
     "output_type": "stream",
     "text": [
      "A.dot(B+C):\n",
      " [[132.  76. 161.]\n",
      " [124.  78.  95.]\n",
      " [144. 121. 164.]]\n",
      "\n",
      "A.dot(B)+A.dot(C):\n",
      " [[132.  76. 161.]\n",
      " [124.  78.  95.]\n",
      " [144. 121. 164.]]\n"
     ]
    }
   ],
   "source": [
    "print ('A.dot(B+C):\\n',A.dot(B+C))\n",
    "print ('\\nA.dot(B)+A.dot(C):\\n',A.dot(B)+A.dot(C))"
   ]
  },
  {
   "cell_type": "markdown",
   "metadata": {},
   "source": [
    "## Associative Property - Matrices multiplication is associative\n",
    "### Prove that A.(B.C)=(A.B).C"
   ]
  },
  {
   "cell_type": "code",
   "execution_count": 7,
   "metadata": {},
   "outputs": [
    {
     "name": "stdout",
     "output_type": "stream",
     "text": [
      "[[1210.  703.  763.]\n",
      " [ 684.  473.  393.]\n",
      " [1471.  824.  934.]] \n",
      "\n",
      "[[1210.  703.  763.]\n",
      " [ 684.  473.  393.]\n",
      " [1471.  824.  934.]]\n"
     ]
    }
   ],
   "source": [
    "# Your code here \n",
    "print (A.dot(B.dot(C)), '\\n')\n",
    "print ((A.dot(B)).dot(C))\n"
   ]
  },
  {
   "cell_type": "markdown",
   "metadata": {},
   "source": [
    "## Commutative Property - Matrix multiplication is NOT commutative\n",
    "### Prove that for matrices, A.B ≠ B.A"
   ]
  },
  {
   "cell_type": "code",
   "execution_count": 8,
   "metadata": {},
   "outputs": [
    {
     "name": "stdout",
     "output_type": "stream",
     "text": [
      "[[ 35.  52.  91.]\n",
      " [ 49.  20.  51.]\n",
      " [ 46.  68. 103.]] \n",
      "\n",
      "[[ 59.  57. 113.]\n",
      " [ 54.  65.  65.]\n",
      " [ 40.  66.  34.]]\n"
     ]
    }
   ],
   "source": [
    "# Your code here \n",
    "print (A.dot(B),'\\n')\n",
    "print (B.dot(A))"
   ]
  },
  {
   "cell_type": "markdown",
   "metadata": {},
   "source": [
    "## Commutative Property -  vector multiplication IS commutative\n",
    "### Prove that for vectors, x<sup>T</sup> . y = y<sup>T</sup> . x\n",
    "Note: superscipt<sup>T</sup> denotes the transpose we saw earlier"
   ]
  },
  {
   "cell_type": "code",
   "execution_count": 9,
   "metadata": {},
   "outputs": [
    {
     "name": "stdout",
     "output_type": "stream",
     "text": [
      "[[36. 33. 55.]\n",
      " [37. 80. 99.]\n",
      " [53. 40. 91.]]\n",
      "[[36. 37. 53.]\n",
      " [33. 80. 40.]\n",
      " [55. 99. 91.]]\n"
     ]
    }
   ],
   "source": [
    "# Your code here \n",
    "A_T = A.transpose()\n",
    "B_T = B.transpose()\n",
    "\n",
    "print ((A_T).dot(B))\n",
    "print (B_T.dot(A))"
   ]
  },
  {
   "cell_type": "markdown",
   "metadata": {},
   "source": [
    "#### and finally \n",
    "## Simplification of the matrix product\n",
    "### Prove that  (A.B)<sup>T</sup> = B<sup>T</sup> . A<sup>T</sup>"
   ]
  },
  {
   "cell_type": "code",
   "execution_count": 15,
   "metadata": {},
   "outputs": [
    {
     "name": "stdout",
     "output_type": "stream",
     "text": [
      "[[ 35.  49.  46.]\n",
      " [ 52.  20.  68.]\n",
      " [ 91.  51. 103.]]\n",
      "[[ 35.  49.  46.]\n",
      " [ 52.  20.  68.]\n",
      " [ 91.  51. 103.]]\n",
      "[[ 3. 72.  8.]\n",
      " [ 3.  3. 63.]\n",
      " [30.  5. 20.]]\n"
     ]
    },
    {
     "data": {
      "text/plain": [
       "array([[ 35.,  52.,  91.],\n",
       "       [ 49.,  20.,  51.],\n",
       "       [ 46.,  68., 103.]])"
      ]
     },
     "execution_count": 15,
     "metadata": {},
     "output_type": "execute_result"
    }
   ],
   "source": [
    "# Your code here \n",
    "print ((A.dot(B)).transpose())\n",
    "print ((B_T).dot(A_T))\n",
    "\n",
    "print (A*B)\n",
    "A.dot(B)\n"
   ]
  },
  {
   "cell_type": "markdown",
   "metadata": {},
   "source": [
    "## Summary \n",
    "\n",
    "So now we have seen enough matrix algebra to help us solve a problem of linear equations as we saw earlier in this section. We shall see how to do this next. "
   ]
  }
 ],
 "metadata": {
  "kernelspec": {
   "display_name": "Python 3",
   "language": "python",
   "name": "python3"
  },
  "language_info": {
   "codemirror_mode": {
    "name": "ipython",
    "version": 3
   },
   "file_extension": ".py",
   "mimetype": "text/x-python",
   "name": "python",
   "nbconvert_exporter": "python",
   "pygments_lexer": "ipython3",
   "version": "3.6.6"
  }
 },
 "nbformat": 4,
 "nbformat_minor": 2
}
